{
 "cells": [
  {
   "cell_type": "code",
   "execution_count": 1,
   "id": "513e2d2a",
   "metadata": {},
   "outputs": [],
   "source": [
    "import pandas as pd\n",
    "import numpy as np"
   ]
  },
  {
   "cell_type": "code",
   "execution_count": 2,
   "id": "80f614e9",
   "metadata": {},
   "outputs": [
    {
     "data": {
      "text/html": [
       "<div>\n",
       "<style scoped>\n",
       "    .dataframe tbody tr th:only-of-type {\n",
       "        vertical-align: middle;\n",
       "    }\n",
       "\n",
       "    .dataframe tbody tr th {\n",
       "        vertical-align: top;\n",
       "    }\n",
       "\n",
       "    .dataframe thead th {\n",
       "        text-align: right;\n",
       "    }\n",
       "</style>\n",
       "<table border=\"1\" class=\"dataframe\">\n",
       "  <thead>\n",
       "    <tr style=\"text-align: right;\">\n",
       "      <th></th>\n",
       "      <th>name</th>\n",
       "      <th>review</th>\n",
       "      <th>rating</th>\n",
       "      <th>Sentiment</th>\n",
       "      <th>cleaned_review</th>\n",
       "      <th>Product</th>\n",
       "      <th>is_fake_reviews</th>\n",
       "    </tr>\n",
       "  </thead>\n",
       "  <tbody>\n",
       "    <tr>\n",
       "      <th>0</th>\n",
       "      <td>Planetwise Flannel Wipes</td>\n",
       "      <td>These flannel wipes are OK, but in my opinion ...</td>\n",
       "      <td>3</td>\n",
       "      <td>1</td>\n",
       "      <td>These flannel wipes OK opinion worth keeping  ...</td>\n",
       "      <td>Planetwise Flannel Wipes These flannel wipes O...</td>\n",
       "      <td>0</td>\n",
       "    </tr>\n",
       "    <tr>\n",
       "      <th>1</th>\n",
       "      <td>Planetwise Wipe Pouch</td>\n",
       "      <td>it came early and was not disappointed. i love...</td>\n",
       "      <td>5</td>\n",
       "      <td>1</td>\n",
       "      <td>came early disappointed love planet wise bags ...</td>\n",
       "      <td>Planetwise Wipe Pouch came early disappointed ...</td>\n",
       "      <td>0</td>\n",
       "    </tr>\n",
       "    <tr>\n",
       "      <th>2</th>\n",
       "      <td>Annas Dream Full Quilt with 2 Shams</td>\n",
       "      <td>Very soft and comfortable and warmer than it l...</td>\n",
       "      <td>5</td>\n",
       "      <td>1</td>\n",
       "      <td>Very soft comfortable warmer looks...fit full ...</td>\n",
       "      <td>Annas Dream Full Quilt with 2 Shams Very soft ...</td>\n",
       "      <td>0</td>\n",
       "    </tr>\n",
       "    <tr>\n",
       "      <th>3</th>\n",
       "      <td>Stop Pacifier Sucking without tears with Thumb...</td>\n",
       "      <td>This is a product well worth the purchase.  I ...</td>\n",
       "      <td>5</td>\n",
       "      <td>1</td>\n",
       "      <td>This product well worth purchase  I found anyt...</td>\n",
       "      <td>Stop Pacifier Sucking without tears with Thumb...</td>\n",
       "      <td>0</td>\n",
       "    </tr>\n",
       "    <tr>\n",
       "      <th>4</th>\n",
       "      <td>Stop Pacifier Sucking without tears with Thumb...</td>\n",
       "      <td>All of my kids have cried non-stop when I trie...</td>\n",
       "      <td>5</td>\n",
       "      <td>1</td>\n",
       "      <td>All kids cried non-stop I tried ween pacifier ...</td>\n",
       "      <td>Stop Pacifier Sucking without tears with Thumb...</td>\n",
       "      <td>0</td>\n",
       "    </tr>\n",
       "  </tbody>\n",
       "</table>\n",
       "</div>"
      ],
      "text/plain": [
       "                                                name  \\\n",
       "0                           Planetwise Flannel Wipes   \n",
       "1                              Planetwise Wipe Pouch   \n",
       "2                Annas Dream Full Quilt with 2 Shams   \n",
       "3  Stop Pacifier Sucking without tears with Thumb...   \n",
       "4  Stop Pacifier Sucking without tears with Thumb...   \n",
       "\n",
       "                                              review  rating  Sentiment  \\\n",
       "0  These flannel wipes are OK, but in my opinion ...       3          1   \n",
       "1  it came early and was not disappointed. i love...       5          1   \n",
       "2  Very soft and comfortable and warmer than it l...       5          1   \n",
       "3  This is a product well worth the purchase.  I ...       5          1   \n",
       "4  All of my kids have cried non-stop when I trie...       5          1   \n",
       "\n",
       "                                      cleaned_review  \\\n",
       "0  These flannel wipes OK opinion worth keeping  ...   \n",
       "1  came early disappointed love planet wise bags ...   \n",
       "2  Very soft comfortable warmer looks...fit full ...   \n",
       "3  This product well worth purchase  I found anyt...   \n",
       "4  All kids cried non-stop I tried ween pacifier ...   \n",
       "\n",
       "                                             Product  is_fake_reviews  \n",
       "0  Planetwise Flannel Wipes These flannel wipes O...                0  \n",
       "1  Planetwise Wipe Pouch came early disappointed ...                0  \n",
       "2  Annas Dream Full Quilt with 2 Shams Very soft ...                0  \n",
       "3  Stop Pacifier Sucking without tears with Thumb...                0  \n",
       "4  Stop Pacifier Sucking without tears with Thumb...                0  "
      ]
     },
     "execution_count": 2,
     "metadata": {},
     "output_type": "execute_result"
    }
   ],
   "source": [
    "data = pd.read_csv('processed_data.csv')\n",
    "data.head()"
   ]
  },
  {
   "cell_type": "markdown",
   "id": "1a19d0f4",
   "metadata": {},
   "source": [
    "### Model Training"
   ]
  },
  {
   "cell_type": "code",
   "execution_count": 3,
   "id": "794b1670",
   "metadata": {},
   "outputs": [
    {
     "data": {
      "text/plain": [
       "name               0\n",
       "review             0\n",
       "rating             0\n",
       "Sentiment          0\n",
       "cleaned_review     0\n",
       "Product            0\n",
       "is_fake_reviews    0\n",
       "dtype: int64"
      ]
     },
     "execution_count": 3,
     "metadata": {},
     "output_type": "execute_result"
    }
   ],
   "source": [
    "df = data[data['name'].str.contains('free sample')]\n",
    "df.count()"
   ]
  },
  {
   "cell_type": "code",
   "execution_count": 4,
   "id": "ccf8ed56",
   "metadata": {},
   "outputs": [],
   "source": [
    "X = data['Product']\n",
    "y = data['Sentiment']"
   ]
  },
  {
   "cell_type": "code",
   "execution_count": 5,
   "id": "c7470e17",
   "metadata": {},
   "outputs": [],
   "source": [
    "from sklearn.model_selection import train_test_split\n",
    "\n",
    "X_train, X_test, y_train, y_test = train_test_split(X, y, test_size=0.30, random_state=0)"
   ]
  },
  {
   "cell_type": "code",
   "execution_count": 6,
   "id": "afb0f3db",
   "metadata": {},
   "outputs": [],
   "source": [
    "from sklearn.feature_extraction.text import CountVectorizer\n",
    "\n",
    "cv = CountVectorizer()\n",
    "ctmTr = cv.fit_transform(X_train)\n",
    "X_test_dtm = cv.transform(X_test)"
   ]
  },
  {
   "cell_type": "markdown",
   "id": "2ffa5f21",
   "metadata": {},
   "source": [
    "### Sentiment Classifier Model Building"
   ]
  },
  {
   "cell_type": "code",
   "execution_count": 7,
   "id": "fd3b839b",
   "metadata": {},
   "outputs": [],
   "source": [
    "from sklearn.naive_bayes import BernoulliNB\n",
    "\n",
    "sentiment_model = BernoulliNB()"
   ]
  },
  {
   "cell_type": "code",
   "execution_count": 8,
   "id": "c1c46d81",
   "metadata": {},
   "outputs": [
    {
     "data": {
      "text/plain": [
       "array([1, 1, 1, ..., 1, 1, 1], dtype=int64)"
      ]
     },
     "execution_count": 8,
     "metadata": {},
     "output_type": "execute_result"
    }
   ],
   "source": [
    "sentiment_model.fit(ctmTr, y_train)\n",
    "sentiment_prediction = sentiment_model.predict(X_test_dtm)\n",
    "sentiment_prediction"
   ]
  },
  {
   "cell_type": "code",
   "execution_count": 9,
   "id": "419b5bbc",
   "metadata": {},
   "outputs": [
    {
     "name": "stdout",
     "output_type": "stream",
     "text": [
      "[[ 3965  3904]\n",
      " [ 3833 43011]] \n",
      "\n",
      "              precision    recall  f1-score   support\n",
      "\n",
      "           0       0.51      0.50      0.51      7869\n",
      "           1       0.92      0.92      0.92     46844\n",
      "\n",
      "    accuracy                           0.86     54713\n",
      "   macro avg       0.71      0.71      0.71     54713\n",
      "weighted avg       0.86      0.86      0.86     54713\n",
      "\n"
     ]
    }
   ],
   "source": [
    "from sklearn.metrics import confusion_matrix, classification_report, accuracy_score\n",
    "print(confusion_matrix(y_test, sentiment_prediction), '\\n')\n",
    "print(classification_report(y_test, sentiment_prediction))"
   ]
  },
  {
   "cell_type": "code",
   "execution_count": 10,
   "id": "398b4aa0",
   "metadata": {},
   "outputs": [
    {
     "name": "stdout",
     "output_type": "stream",
     "text": [
      "0.8585893663297571\n"
     ]
    }
   ],
   "source": [
    "print(accuracy_score(y_test, sentiment_prediction))"
   ]
  },
  {
   "cell_type": "markdown",
   "id": "ac6f0a04",
   "metadata": {},
   "source": [
    "### Function to check for fake reviews"
   ]
  },
  {
   "cell_type": "code",
   "execution_count": 11,
   "id": "9e527915",
   "metadata": {},
   "outputs": [],
   "source": [
    "def fake_test(text, rating):\n",
    "    if 'free sample' in text and rating > 3:\n",
    "        return 'its a fake review'\n",
    "    else:\n",
    "        return 'review is not fake'"
   ]
  },
  {
   "cell_type": "markdown",
   "id": "aa2e5307",
   "metadata": {},
   "source": [
    "### TESTING"
   ]
  },
  {
   "cell_type": "code",
   "execution_count": 12,
   "id": "923cf41a",
   "metadata": {},
   "outputs": [],
   "source": [
    "import string\n",
    "from nltk.corpus import stopwords"
   ]
  },
  {
   "cell_type": "code",
   "execution_count": 13,
   "id": "71418510",
   "metadata": {},
   "outputs": [],
   "source": [
    "def clean_text(text):\n",
    "    \n",
    "    \"\"\"\n",
    "    Takes in a string of text, then preforms the following:\n",
    "    1. Remove all punctuation\n",
    "    2. Remove Numbers and Special characters\n",
    "    3. Remove all stepwords\n",
    "    4. Return a list of the cleaned text\n",
    "    \"\"\"\n",
    "\n",
    "    # tokenize text and remove puncutation\n",
    "    text = [word.strip(string.punctuation) for word in str(text).split(\" \")]\n",
    "    # remove words that contain numbers\n",
    "    text = [word for word in text if not any(c.isdigit() for c in word)]\n",
    "    #remove special characters\n",
    "    special = [value for value in text if value.isalnum() or value == ' ']\n",
    "    special = ''.join(special)\n",
    "    # remove stop words\n",
    "    stop = stopwords.words('english')\n",
    "    text = [x for x in text if x not in stop]\n",
    "    # join all\n",
    "    text = \" \".join(text)\n",
    "    return(text)"
   ]
  },
  {
   "cell_type": "code",
   "execution_count": 14,
   "id": "92a03125",
   "metadata": {},
   "outputs": [
    {
     "name": "stdout",
     "output_type": "stream",
     "text": [
      "[1]\n"
     ]
    }
   ],
   "source": [
    "text = 'These flannel wipes are OK, but in my opinion not worth keeping. I also ordered someImse Vimse Cloth Wipes-Ocean Blue-12 countwhich are larger, had a nicer, softer texture and just seemed higher quality. I use cloth wipes for hands and faces and have been usingThirsties 6 Pack Fab Wipes, Boyfor about 8 months now and need to replace them because they are starting to get rough and have had stink issues for a while that stripping no longer handles.'\n",
    "text_rating = 3\n",
    "text_1 = clean_text(text)\n",
    "text_1 = cv.transform([text_1])\n",
    "#pd.get_dummies(text.getnnz(), dummy_na=True)\n",
    "test_a = sentiment_model.predict(text_1)\n",
    "print(test_a)"
   ]
  },
  {
   "cell_type": "code",
   "execution_count": 15,
   "id": "81b61b8f",
   "metadata": {},
   "outputs": [
    {
     "name": "stdout",
     "output_type": "stream",
     "text": [
      "review is not fake\n"
     ]
    }
   ],
   "source": [
    "test_b = fake_test(text, text_rating)\n",
    "print(test_b)"
   ]
  },
  {
   "cell_type": "code",
   "execution_count": 16,
   "id": "42b190f4",
   "metadata": {},
   "outputs": [
    {
     "name": "stderr",
     "output_type": "stream",
     "text": [
      "C:\\Users\\HP\\Anaconda2\\envs\\tensorflow\\lib\\site-packages\\ipykernel_launcher.py:1: FutureWarning: Passing a negative integer is deprecated in version 1.0 and will not be supported in future version. Instead, use None to not limit the column width.\n",
      "  \"\"\"Entry point for launching an IPython kernel.\n"
     ]
    },
    {
     "data": {
      "text/html": [
       "<div>\n",
       "<style scoped>\n",
       "    .dataframe tbody tr th:only-of-type {\n",
       "        vertical-align: middle;\n",
       "    }\n",
       "\n",
       "    .dataframe tbody tr th {\n",
       "        vertical-align: top;\n",
       "    }\n",
       "\n",
       "    .dataframe thead th {\n",
       "        text-align: right;\n",
       "    }\n",
       "</style>\n",
       "<table border=\"1\" class=\"dataframe\">\n",
       "  <thead>\n",
       "    <tr style=\"text-align: right;\">\n",
       "      <th></th>\n",
       "      <th>name</th>\n",
       "      <th>review</th>\n",
       "      <th>rating</th>\n",
       "      <th>Sentiment</th>\n",
       "      <th>cleaned_review</th>\n",
       "      <th>Product</th>\n",
       "      <th>is_fake_reviews</th>\n",
       "    </tr>\n",
       "  </thead>\n",
       "  <tbody>\n",
       "    <tr>\n",
       "      <th>2045</th>\n",
       "      <td>Philips Avent 3 Pack 9oz Bottles</td>\n",
       "      <td>I had been afraid that my breastfed baby would prefer the bottle once I started pumping. Instead, we found that he did not like the bottle at all. We had received a free sample of the Avent bottle, and discovered that he liked the nipple much more than the ones on the Medela nursing set that goes with my breast pump. He still would much rather get the real thing, but daddy finds it much easier to feed him with the Avent bottle. My one concern is that the plastic is much more rigid than that of the Medela set...am afraid of dropping over hard surface.</td>\n",
       "      <td>4</td>\n",
       "      <td>1</td>\n",
       "      <td>I afraid breastfed baby would prefer bottle I started pumping Instead found like bottle We received free sample Avent bottle discovered liked nipple much ones Medela nursing set goes breast pump He still would much rather get real thing daddy finds much easier feed Avent bottle My one concern plastic much rigid Medela set...am afraid dropping hard surface</td>\n",
       "      <td>Philips Avent 3 Pack 9oz Bottles I afraid breastfed baby would prefer bottle I started pumping Instead found like bottle We received free sample Avent bottle discovered liked nipple much ones Medela nursing set goes breast pump He still would much rather get real thing daddy finds much easier feed Avent bottle My one concern plastic much rigid Medela set...am afraid dropping hard surface</td>\n",
       "      <td>1</td>\n",
       "    </tr>\n",
       "    <tr>\n",
       "      <th>35936</th>\n",
       "      <td>Babysafe Sunscreen Towelettes Broad Spectrum SPF 30</td>\n",
       "      <td>I really like these sunscreen wipes. They are so easy to use and don't smell offensive. Actually, I don't think they smell at all. The particular pack that was sent to me had an open seam in the back. I called the company and they were very easy to work with, and they sent me a replacement pack and some free samples of other items. I would recommend these to a friend!</td>\n",
       "      <td>4</td>\n",
       "      <td>1</td>\n",
       "      <td>I really like sunscreen wipes They easy use smell offensive Actually I think smell The particular pack sent open seam back I called company easy work sent replacement pack free samples items I would recommend friend</td>\n",
       "      <td>Babysafe Sunscreen Towelettes Broad Spectrum SPF 30 I really like sunscreen wipes They easy use smell offensive Actually I think smell The particular pack sent open seam back I called company easy work sent replacement pack free samples items I would recommend friend</td>\n",
       "      <td>1</td>\n",
       "    </tr>\n",
       "    <tr>\n",
       "      <th>66483</th>\n",
       "      <td>The First Years Breastflow Starter Set</td>\n",
       "      <td>We received a few other brands as free samples and registry gifts, but they all either fail catastrophically, result in more milk on than in the child, or yield horrible gas.These are big and a little more work to assemble, but are TOTALLY worth it. Perfect gas exchange, and super easy switching back and forth to the breast without missing a beat.</td>\n",
       "      <td>5</td>\n",
       "      <td>1</td>\n",
       "      <td>We received brands free samples registry gifts either fail catastrophically result milk child yield horrible gas.These big little work assemble TOTALLY worth Perfect gas exchange super easy switching back forth breast without missing beat</td>\n",
       "      <td>The First Years Breastflow Starter Set We received brands free samples registry gifts either fail catastrophically result milk child yield horrible gas.These big little work assemble TOTALLY worth Perfect gas exchange super easy switching back forth breast without missing beat</td>\n",
       "      <td>1</td>\n",
       "    </tr>\n",
       "    <tr>\n",
       "      <th>82316</th>\n",
       "      <td>Philips AVENT BPA Free Classic Polypropylene Bottle, Opaque, 4 Ounce, 2 Pack</td>\n",
       "      <td>We were using Dr. Brown bottles, but they are so much more difficult to clean.  I went on the hunt for a bottle that didn't have as many parts yet reduced air flow.  After many duds including the Avent Natural bottles.  I tried the Classic bottle I received as a free sample in the mail and waaaaaaa!  I purchased more and have packed up the Dr. Brown bottles.  I haven't experienced the leaking issue other reviewers mentioned.  If you don't put the ring in...well you are looking at a huge mess, but with ring no issues.  They're so much easier to clean and sterilize.</td>\n",
       "      <td>5</td>\n",
       "      <td>1</td>\n",
       "      <td>We using Dr Brown bottles much difficult clean  I went hunt bottle many parts yet reduced air flow  After many duds including Avent Natural bottles  I tried Classic bottle I received free sample mail waaaaaaa  I purchased packed Dr Brown bottles  I experienced leaking issue reviewers mentioned  If put ring in...well looking huge mess ring issues  They're much easier clean sterilize</td>\n",
       "      <td>Philips AVENT BPA Free Classic Polypropylene Bottle, Opaque, 4 Ounce, 2 Pack We using Dr Brown bottles much difficult clean  I went hunt bottle many parts yet reduced air flow  After many duds including Avent Natural bottles  I tried Classic bottle I received free sample mail waaaaaaa  I purchased packed Dr Brown bottles  I experienced leaking issue reviewers mentioned  If put ring in...well looking huge mess ring issues  They're much easier clean sterilize</td>\n",
       "      <td>1</td>\n",
       "    </tr>\n",
       "    <tr>\n",
       "      <th>96173</th>\n",
       "      <td>Honeysuckle Breast Milk Storage Bags, 75 Ct (3 Boxes of 25 pcs)</td>\n",
       "      <td>these bags dont leave.  they are extremely durable.  to all BF mothers, these are the absolute best.  they also included free sample of food storage ba</td>\n",
       "      <td>5</td>\n",
       "      <td>1</td>\n",
       "      <td>bags dont leave  extremely durable  BF mothers absolute best  also included free sample food storage ba</td>\n",
       "      <td>Honeysuckle Breast Milk Storage Bags, 75 Ct (3 Boxes of 25 pcs) bags dont leave  extremely durable  BF mothers absolute best  also included free sample food storage ba</td>\n",
       "      <td>1</td>\n",
       "    </tr>\n",
       "    <tr>\n",
       "      <th>...</th>\n",
       "      <td>...</td>\n",
       "      <td>...</td>\n",
       "      <td>...</td>\n",
       "      <td>...</td>\n",
       "      <td>...</td>\n",
       "      <td>...</td>\n",
       "      <td>...</td>\n",
       "    </tr>\n",
       "    <tr>\n",
       "      <th>182343</th>\n",
       "      <td>Maxboost iPhone 5S/5 Case - Protective Snap-on Hard Case Slim Rugged Cover [Not compatible to Apple iPhone 6 Air 5c 4s 4 3gs, Screen Protector / Cable is not included] - Ultra Slim Profile Slimmer than coventional otterbox/lifeproof/kate Spade/speck/juicy couture/griffin/element/taktik Case</td>\n",
       "      <td>I received a free sample from VIPU program for evaluation. Case fits well, doesn't interfere with the camera and is not bulky at all. Very comfortable to hold and use. I got it in purple and love the color.</td>\n",
       "      <td>5</td>\n",
       "      <td>1</td>\n",
       "      <td>I received free sample VIPU program evaluation Case fits well interfere camera bulky Very comfortable hold use I got purple love color</td>\n",
       "      <td>Maxboost iPhone 5S/5 Case - Protective Snap-on Hard Case Slim Rugged Cover [Not compatible to Apple iPhone 6 Air 5c 4s 4 3gs, Screen Protector / Cable is not included] - Ultra Slim Profile Slimmer than coventional otterbox/lifeproof/kate Spade/speck/juicy couture/griffin/element/taktik Case I received free sample VIPU program evaluation Case fits well interfere camera bulky Very comfortable hold use I got purple love color</td>\n",
       "      <td>1</td>\n",
       "    </tr>\n",
       "    <tr>\n",
       "      <th>182345</th>\n",
       "      <td>Maxboost iPhone 5S/5 Case - Protective Snap-on Hard Case Slim Rugged Cover [Not compatible to Apple iPhone 6 Air 5c 4s 4 3gs, Screen Protector / Cable is not included] - Ultra Slim Profile Slimmer than coventional otterbox/lifeproof/kate Spade/speck/juicy couture/griffin/element/taktik Case</td>\n",
       "      <td>I received a free sample from VIPU program for evaluation. I love how lightweight the case is and how it adds protection without adding too much weight and bulk to my phone. I love it!</td>\n",
       "      <td>5</td>\n",
       "      <td>1</td>\n",
       "      <td>I received free sample VIPU program evaluation I love lightweight case adds protection without adding much weight bulk phone I love</td>\n",
       "      <td>Maxboost iPhone 5S/5 Case - Protective Snap-on Hard Case Slim Rugged Cover [Not compatible to Apple iPhone 6 Air 5c 4s 4 3gs, Screen Protector / Cable is not included] - Ultra Slim Profile Slimmer than coventional otterbox/lifeproof/kate Spade/speck/juicy couture/griffin/element/taktik Case I received free sample VIPU program evaluation I love lightweight case adds protection without adding much weight bulk phone I love</td>\n",
       "      <td>1</td>\n",
       "    </tr>\n",
       "    <tr>\n",
       "      <th>182349</th>\n",
       "      <td>Maxboost iPhone 5S/5 Case - Protective Snap-on Hard Case Slim Rugged Cover [Not compatible to Apple iPhone 6 Air 5c 4s 4 3gs, Screen Protector / Cable is not included] - Ultra Slim Profile Slimmer than coventional otterbox/lifeproof/kate Spade/speck/juicy couture/griffin/element/taktik Case</td>\n",
       "      <td>I received a free sample from VIPU program for evaluation.Love the pink im very girl makes it a great thing for me.. Nice and tight on the phone works great....</td>\n",
       "      <td>5</td>\n",
       "      <td>1</td>\n",
       "      <td>I received free sample VIPU program evaluation.Love pink im girl makes great thing Nice tight phone works great</td>\n",
       "      <td>Maxboost iPhone 5S/5 Case - Protective Snap-on Hard Case Slim Rugged Cover [Not compatible to Apple iPhone 6 Air 5c 4s 4 3gs, Screen Protector / Cable is not included] - Ultra Slim Profile Slimmer than coventional otterbox/lifeproof/kate Spade/speck/juicy couture/griffin/element/taktik Case I received free sample VIPU program evaluation.Love pink im girl makes great thing Nice tight phone works great</td>\n",
       "      <td>1</td>\n",
       "    </tr>\n",
       "    <tr>\n",
       "      <th>182356</th>\n",
       "      <td>Maxboost iPhone 5S/5 Case - Protective Snap-on Hard Case Slim Rugged Cover [Not compatible to Apple iPhone 6 Air 5c 4s 4 3gs, Screen Protector / Cable is not included] - Ultra Slim Profile Slimmer than coventional otterbox/lifeproof/kate Spade/speck/juicy couture/griffin/element/taktik Case</td>\n",
       "      <td>*I received a free sample from VIPU program for evaluation.* It is great color and fits the iPhone perfectly and protect the phone. I am very much satisfied with the product and would like to order few more colors. I would highly recommend this product.</td>\n",
       "      <td>5</td>\n",
       "      <td>1</td>\n",
       "      <td>I received free sample VIPU program evaluation It great color fits iPhone perfectly protect phone I much satisfied product would like order colors I would highly recommend product</td>\n",
       "      <td>Maxboost iPhone 5S/5 Case - Protective Snap-on Hard Case Slim Rugged Cover [Not compatible to Apple iPhone 6 Air 5c 4s 4 3gs, Screen Protector / Cable is not included] - Ultra Slim Profile Slimmer than coventional otterbox/lifeproof/kate Spade/speck/juicy couture/griffin/element/taktik Case I received free sample VIPU program evaluation It great color fits iPhone perfectly protect phone I much satisfied product would like order colors I would highly recommend product</td>\n",
       "      <td>1</td>\n",
       "    </tr>\n",
       "    <tr>\n",
       "      <th>182358</th>\n",
       "      <td>Maxboost iPhone 5S/5 Case - Protective Snap-on Hard Case Slim Rugged Cover [Not compatible to Apple iPhone 6 Air 5c 4s 4 3gs, Screen Protector / Cable is not included] - Ultra Slim Profile Slimmer than coventional otterbox/lifeproof/kate Spade/speck/juicy couture/griffin/element/taktik Case</td>\n",
       "      <td>I received a free sample from VIPU program for evaluation. I received the phone case much faster than the delivery date stated which was awesome. Overall the phone case provides good coverage of the phone. The only downside to the phone case is that it is kind of slippery so I do find myself dropping or almost dropping the phone sometimes.</td>\n",
       "      <td>4</td>\n",
       "      <td>1</td>\n",
       "      <td>I received free sample VIPU program evaluation I received phone case much faster delivery date stated awesome Overall phone case provides good coverage phone The downside phone case kind slippery I find dropping almost dropping phone sometimes</td>\n",
       "      <td>Maxboost iPhone 5S/5 Case - Protective Snap-on Hard Case Slim Rugged Cover [Not compatible to Apple iPhone 6 Air 5c 4s 4 3gs, Screen Protector / Cable is not included] - Ultra Slim Profile Slimmer than coventional otterbox/lifeproof/kate Spade/speck/juicy couture/griffin/element/taktik Case I received free sample VIPU program evaluation I received phone case much faster delivery date stated awesome Overall phone case provides good coverage phone The downside phone case kind slippery I find dropping almost dropping phone sometimes</td>\n",
       "      <td>1</td>\n",
       "    </tr>\n",
       "  </tbody>\n",
       "</table>\n",
       "<p>153 rows × 7 columns</p>\n",
       "</div>"
      ],
      "text/plain": [
       "                                                                                                                                                                                                                                                                                                       name  \\\n",
       "2045    Philips Avent 3 Pack 9oz Bottles                                                                                                                                                                                                                                                                      \n",
       "35936   Babysafe Sunscreen Towelettes Broad Spectrum SPF 30                                                                                                                                                                                                                                                   \n",
       "66483   The First Years Breastflow Starter Set                                                                                                                                                                                                                                                                \n",
       "82316   Philips AVENT BPA Free Classic Polypropylene Bottle, Opaque, 4 Ounce, 2 Pack                                                                                                                                                                                                                          \n",
       "96173   Honeysuckle Breast Milk Storage Bags, 75 Ct (3 Boxes of 25 pcs)                                                                                                                                                                                                                                       \n",
       "...                                                                 ...                                                                                                                                                                                                                                       \n",
       "182343  Maxboost iPhone 5S/5 Case - Protective Snap-on Hard Case Slim Rugged Cover [Not compatible to Apple iPhone 6 Air 5c 4s 4 3gs, Screen Protector / Cable is not included] - Ultra Slim Profile Slimmer than coventional otterbox/lifeproof/kate Spade/speck/juicy couture/griffin/element/taktik Case   \n",
       "182345  Maxboost iPhone 5S/5 Case - Protective Snap-on Hard Case Slim Rugged Cover [Not compatible to Apple iPhone 6 Air 5c 4s 4 3gs, Screen Protector / Cable is not included] - Ultra Slim Profile Slimmer than coventional otterbox/lifeproof/kate Spade/speck/juicy couture/griffin/element/taktik Case   \n",
       "182349  Maxboost iPhone 5S/5 Case - Protective Snap-on Hard Case Slim Rugged Cover [Not compatible to Apple iPhone 6 Air 5c 4s 4 3gs, Screen Protector / Cable is not included] - Ultra Slim Profile Slimmer than coventional otterbox/lifeproof/kate Spade/speck/juicy couture/griffin/element/taktik Case   \n",
       "182356  Maxboost iPhone 5S/5 Case - Protective Snap-on Hard Case Slim Rugged Cover [Not compatible to Apple iPhone 6 Air 5c 4s 4 3gs, Screen Protector / Cable is not included] - Ultra Slim Profile Slimmer than coventional otterbox/lifeproof/kate Spade/speck/juicy couture/griffin/element/taktik Case   \n",
       "182358  Maxboost iPhone 5S/5 Case - Protective Snap-on Hard Case Slim Rugged Cover [Not compatible to Apple iPhone 6 Air 5c 4s 4 3gs, Screen Protector / Cable is not included] - Ultra Slim Profile Slimmer than coventional otterbox/lifeproof/kate Spade/speck/juicy couture/griffin/element/taktik Case   \n",
       "\n",
       "                                                                                                                                                                                                                                                                                                                                                                                                                                                                                                                                                                                            review  \\\n",
       "2045    I had been afraid that my breastfed baby would prefer the bottle once I started pumping. Instead, we found that he did not like the bottle at all. We had received a free sample of the Avent bottle, and discovered that he liked the nipple much more than the ones on the Medela nursing set that goes with my breast pump. He still would much rather get the real thing, but daddy finds it much easier to feed him with the Avent bottle. My one concern is that the plastic is much more rigid than that of the Medela set...am afraid of dropping over hard surface.                 \n",
       "35936   I really like these sunscreen wipes. They are so easy to use and don't smell offensive. Actually, I don't think they smell at all. The particular pack that was sent to me had an open seam in the back. I called the company and they were very easy to work with, and they sent me a replacement pack and some free samples of other items. I would recommend these to a friend!                                                                                                                                                                                                           \n",
       "66483   We received a few other brands as free samples and registry gifts, but they all either fail catastrophically, result in more milk on than in the child, or yield horrible gas.These are big and a little more work to assemble, but are TOTALLY worth it. Perfect gas exchange, and super easy switching back and forth to the breast without missing a beat.                                                                                                                                                                                                                                \n",
       "82316   We were using Dr. Brown bottles, but they are so much more difficult to clean.  I went on the hunt for a bottle that didn't have as many parts yet reduced air flow.  After many duds including the Avent Natural bottles.  I tried the Classic bottle I received as a free sample in the mail and waaaaaaa!  I purchased more and have packed up the Dr. Brown bottles.  I haven't experienced the leaking issue other reviewers mentioned.  If you don't put the ring in...well you are looking at a huge mess, but with ring no issues.  They're so much easier to clean and sterilize.   \n",
       "96173   these bags dont leave.  they are extremely durable.  to all BF mothers, these are the absolute best.  they also included free sample of food storage ba                                                                                                                                                                                                                                                                                                                                                                                                                                      \n",
       "...                                                                                                                                                         ...                                                                                                                                                                                                                                                                                                                                                                                                                                      \n",
       "182343  I received a free sample from VIPU program for evaluation. Case fits well, doesn't interfere with the camera and is not bulky at all. Very comfortable to hold and use. I got it in purple and love the color.                                                                                                                                                                                                                                                                                                                                                                               \n",
       "182345  I received a free sample from VIPU program for evaluation. I love how lightweight the case is and how it adds protection without adding too much weight and bulk to my phone. I love it!                                                                                                                                                                                                                                                                                                                                                                                                     \n",
       "182349  I received a free sample from VIPU program for evaluation.Love the pink im very girl makes it a great thing for me.. Nice and tight on the phone works great....                                                                                                                                                                                                                                                                                                                                                                                                                             \n",
       "182356  *I received a free sample from VIPU program for evaluation.* It is great color and fits the iPhone perfectly and protect the phone. I am very much satisfied with the product and would like to order few more colors. I would highly recommend this product.                                                                                                                                                                                                                                                                                                                                \n",
       "182358  I received a free sample from VIPU program for evaluation. I received the phone case much faster than the delivery date stated which was awesome. Overall the phone case provides good coverage of the phone. The only downside to the phone case is that it is kind of slippery so I do find myself dropping or almost dropping the phone sometimes.                                                                                                                                                                                                                                        \n",
       "\n",
       "        rating  Sentiment  \\\n",
       "2045    4       1           \n",
       "35936   4       1           \n",
       "66483   5       1           \n",
       "82316   5       1           \n",
       "96173   5       1           \n",
       "...    ..      ..           \n",
       "182343  5       1           \n",
       "182345  5       1           \n",
       "182349  5       1           \n",
       "182356  5       1           \n",
       "182358  4       1           \n",
       "\n",
       "                                                                                                                                                                                                                                                                                                                                                                                          cleaned_review  \\\n",
       "2045    I afraid breastfed baby would prefer bottle I started pumping Instead found like bottle We received free sample Avent bottle discovered liked nipple much ones Medela nursing set goes breast pump He still would much rather get real thing daddy finds much easier feed Avent bottle My one concern plastic much rigid Medela set...am afraid dropping hard surface                              \n",
       "35936   I really like sunscreen wipes They easy use smell offensive Actually I think smell The particular pack sent open seam back I called company easy work sent replacement pack free samples items I would recommend friend                                                                                                                                                                            \n",
       "66483   We received brands free samples registry gifts either fail catastrophically result milk child yield horrible gas.These big little work assemble TOTALLY worth Perfect gas exchange super easy switching back forth breast without missing beat                                                                                                                                                     \n",
       "82316   We using Dr Brown bottles much difficult clean  I went hunt bottle many parts yet reduced air flow  After many duds including Avent Natural bottles  I tried Classic bottle I received free sample mail waaaaaaa  I purchased packed Dr Brown bottles  I experienced leaking issue reviewers mentioned  If put ring in...well looking huge mess ring issues  They're much easier clean sterilize   \n",
       "96173   bags dont leave  extremely durable  BF mothers absolute best  also included free sample food storage ba                                                                                                                                                                                                                                                                                            \n",
       "...                                                                                                         ...                                                                                                                                                                                                                                                                                            \n",
       "182343  I received free sample VIPU program evaluation Case fits well interfere camera bulky Very comfortable hold use I got purple love color                                                                                                                                                                                                                                                             \n",
       "182345  I received free sample VIPU program evaluation I love lightweight case adds protection without adding much weight bulk phone I love                                                                                                                                                                                                                                                                \n",
       "182349  I received free sample VIPU program evaluation.Love pink im girl makes great thing Nice tight phone works great                                                                                                                                                                                                                                                                                    \n",
       "182356  I received free sample VIPU program evaluation It great color fits iPhone perfectly protect phone I much satisfied product would like order colors I would highly recommend product                                                                                                                                                                                                                \n",
       "182358  I received free sample VIPU program evaluation I received phone case much faster delivery date stated awesome Overall phone case provides good coverage phone The downside phone case kind slippery I find dropping almost dropping phone sometimes                                                                                                                                                \n",
       "\n",
       "                                                                                                                                                                                                                                                                                                                                                                                                                                                                                                                                                        Product  \\\n",
       "2045    Philips Avent 3 Pack 9oz Bottles I afraid breastfed baby would prefer bottle I started pumping Instead found like bottle We received free sample Avent bottle discovered liked nipple much ones Medela nursing set goes breast pump He still would much rather get real thing daddy finds much easier feed Avent bottle My one concern plastic much rigid Medela set...am afraid dropping hard surface                                                                                                                                                    \n",
       "35936   Babysafe Sunscreen Towelettes Broad Spectrum SPF 30 I really like sunscreen wipes They easy use smell offensive Actually I think smell The particular pack sent open seam back I called company easy work sent replacement pack free samples items I would recommend friend                                                                                                                                                                                                                                                                               \n",
       "66483   The First Years Breastflow Starter Set We received brands free samples registry gifts either fail catastrophically result milk child yield horrible gas.These big little work assemble TOTALLY worth Perfect gas exchange super easy switching back forth breast without missing beat                                                                                                                                                                                                                                                                     \n",
       "82316   Philips AVENT BPA Free Classic Polypropylene Bottle, Opaque, 4 Ounce, 2 Pack We using Dr Brown bottles much difficult clean  I went hunt bottle many parts yet reduced air flow  After many duds including Avent Natural bottles  I tried Classic bottle I received free sample mail waaaaaaa  I purchased packed Dr Brown bottles  I experienced leaking issue reviewers mentioned  If put ring in...well looking huge mess ring issues  They're much easier clean sterilize                                                                             \n",
       "96173   Honeysuckle Breast Milk Storage Bags, 75 Ct (3 Boxes of 25 pcs) bags dont leave  extremely durable  BF mothers absolute best  also included free sample food storage ba                                                                                                                                                                                                                                                                                                                                                                                   \n",
       "...                                                                                                                                                                         ...                                                                                                                                                                                                                                                                                                                                                                                   \n",
       "182343  Maxboost iPhone 5S/5 Case - Protective Snap-on Hard Case Slim Rugged Cover [Not compatible to Apple iPhone 6 Air 5c 4s 4 3gs, Screen Protector / Cable is not included] - Ultra Slim Profile Slimmer than coventional otterbox/lifeproof/kate Spade/speck/juicy couture/griffin/element/taktik Case I received free sample VIPU program evaluation Case fits well interfere camera bulky Very comfortable hold use I got purple love color                                                                                                                \n",
       "182345  Maxboost iPhone 5S/5 Case - Protective Snap-on Hard Case Slim Rugged Cover [Not compatible to Apple iPhone 6 Air 5c 4s 4 3gs, Screen Protector / Cable is not included] - Ultra Slim Profile Slimmer than coventional otterbox/lifeproof/kate Spade/speck/juicy couture/griffin/element/taktik Case I received free sample VIPU program evaluation I love lightweight case adds protection without adding much weight bulk phone I love                                                                                                                   \n",
       "182349  Maxboost iPhone 5S/5 Case - Protective Snap-on Hard Case Slim Rugged Cover [Not compatible to Apple iPhone 6 Air 5c 4s 4 3gs, Screen Protector / Cable is not included] - Ultra Slim Profile Slimmer than coventional otterbox/lifeproof/kate Spade/speck/juicy couture/griffin/element/taktik Case I received free sample VIPU program evaluation.Love pink im girl makes great thing Nice tight phone works great                                                                                                                                       \n",
       "182356  Maxboost iPhone 5S/5 Case - Protective Snap-on Hard Case Slim Rugged Cover [Not compatible to Apple iPhone 6 Air 5c 4s 4 3gs, Screen Protector / Cable is not included] - Ultra Slim Profile Slimmer than coventional otterbox/lifeproof/kate Spade/speck/juicy couture/griffin/element/taktik Case I received free sample VIPU program evaluation It great color fits iPhone perfectly protect phone I much satisfied product would like order colors I would highly recommend product                                                                   \n",
       "182358  Maxboost iPhone 5S/5 Case - Protective Snap-on Hard Case Slim Rugged Cover [Not compatible to Apple iPhone 6 Air 5c 4s 4 3gs, Screen Protector / Cable is not included] - Ultra Slim Profile Slimmer than coventional otterbox/lifeproof/kate Spade/speck/juicy couture/griffin/element/taktik Case I received free sample VIPU program evaluation I received phone case much faster delivery date stated awesome Overall phone case provides good coverage phone The downside phone case kind slippery I find dropping almost dropping phone sometimes   \n",
       "\n",
       "        is_fake_reviews  \n",
       "2045    1                \n",
       "35936   1                \n",
       "66483   1                \n",
       "82316   1                \n",
       "96173   1                \n",
       "...    ..                \n",
       "182343  1                \n",
       "182345  1                \n",
       "182349  1                \n",
       "182356  1                \n",
       "182358  1                \n",
       "\n",
       "[153 rows x 7 columns]"
      ]
     },
     "execution_count": 16,
     "metadata": {},
     "output_type": "execute_result"
    }
   ],
   "source": [
    "pd.set_option(\"display.max_colwidth\", -1)\n",
    "data[data['is_fake_reviews'] == 1]"
   ]
  },
  {
   "cell_type": "code",
   "execution_count": 17,
   "id": "59c94263",
   "metadata": {},
   "outputs": [
    {
     "name": "stdout",
     "output_type": "stream",
     "text": [
      "[1]\n"
     ]
    }
   ],
   "source": [
    "text2 = 'I received a free sample from VIPU program for evaluation. Case fits well, doesnt interfere with the camera and is not bulky at all. Very comfortable to hold and use. I got it in purple and love the color.'\n",
    "text2_rating = 5\n",
    "text_2 = clean_text(text2)\n",
    "text_2 = cv.transform([text_2])\n",
    "test_aa = sentiment_model.predict(text_2)\n",
    "print(test_aa)"
   ]
  },
  {
   "cell_type": "code",
   "execution_count": 18,
   "id": "0e226f00",
   "metadata": {},
   "outputs": [
    {
     "name": "stdout",
     "output_type": "stream",
     "text": [
      "its a fake review\n"
     ]
    }
   ],
   "source": [
    "test_bb = fake_test(text2, text2_rating)\n",
    "print(test_bb)"
   ]
  },
  {
   "cell_type": "code",
   "execution_count": 19,
   "id": "e67af289",
   "metadata": {},
   "outputs": [
    {
     "data": {
      "text/html": [
       "<div>\n",
       "<style scoped>\n",
       "    .dataframe tbody tr th:only-of-type {\n",
       "        vertical-align: middle;\n",
       "    }\n",
       "\n",
       "    .dataframe tbody tr th {\n",
       "        vertical-align: top;\n",
       "    }\n",
       "\n",
       "    .dataframe thead th {\n",
       "        text-align: right;\n",
       "    }\n",
       "</style>\n",
       "<table border=\"1\" class=\"dataframe\">\n",
       "  <thead>\n",
       "    <tr style=\"text-align: right;\">\n",
       "      <th></th>\n",
       "      <th>name</th>\n",
       "      <th>review</th>\n",
       "      <th>rating</th>\n",
       "      <th>Sentiment</th>\n",
       "      <th>cleaned_review</th>\n",
       "      <th>Product</th>\n",
       "      <th>is_fake_reviews</th>\n",
       "    </tr>\n",
       "  </thead>\n",
       "  <tbody>\n",
       "    <tr>\n",
       "      <th>21</th>\n",
       "      <td>Nature's Lullabies Second Year Sticker Calendar</td>\n",
       "      <td>I only purchased a second-year calendar for my son because I had one for my daughter. I was really disappointed with the lack of selection available for second-year calendars in general, so I just got this one because it was one of the only ones. It's an okay calendar. The finish on the pages is glossy which makes it hard to write on with certain pens. The stickers aren't very cute and the pages are pretty old-fashioned looking. Hopefully they will come out with some other calendars for future purchasers.</td>\n",
       "      <td>2</td>\n",
       "      <td>0</td>\n",
       "      <td>I purchased second-year calendar son I one daughter I really disappointed lack selection available second-year calendars general I got one one ones It's okay calendar The finish pages glossy makes hard write certain pens The stickers cute pages pretty old-fashioned looking Hopefully come calendars future purchasers</td>\n",
       "      <td>Nature's Lullabies Second Year Sticker Calendar I purchased second-year calendar son I one daughter I really disappointed lack selection available second-year calendars general I got one one ones It's okay calendar The finish pages glossy makes hard write certain pens The stickers cute pages pretty old-fashioned looking Hopefully come calendars future purchasers</td>\n",
       "      <td>0</td>\n",
       "    </tr>\n",
       "    <tr>\n",
       "      <th>40</th>\n",
       "      <td>SoftPlay Giggle Jiggle Funbook, Happy Bear</td>\n",
       "      <td>This bear is absolutely adorable and I would give it a 5 star rating if it actually giggled or growled like it was suppose to!  I just got it in the mail the other day and was super excited when I saw how cute it was!  If it's something as simple as a dead battery I could handle it BUT I can't even find a place where the batteries would to!  Such a disappointment....it's going back and I have no gift to take down to my new Granddaughter, Kenzie, now!</td>\n",
       "      <td>2</td>\n",
       "      <td>0</td>\n",
       "      <td>This bear absolutely adorable I would give star rating actually giggled growled like suppose  I got mail day super excited I saw cute  If something simple dead battery I could handle BUT I can't even find place batteries would  Such disappointment....it's going back I gift take new Granddaughter Kenzie</td>\n",
       "      <td>SoftPlay Giggle Jiggle Funbook, Happy Bear This bear absolutely adorable I would give star rating actually giggled growled like suppose  I got mail day super excited I saw cute  If something simple dead battery I could handle BUT I can't even find place batteries would  Such disappointment....it's going back I gift take new Granddaughter Kenzie</td>\n",
       "      <td>0</td>\n",
       "    </tr>\n",
       "    <tr>\n",
       "      <th>49</th>\n",
       "      <td>SoftPlay Cloth Book, Love</td>\n",
       "      <td>This book is boring. Nothing to stimulate my granddaughter. It is a waste of money. I would not recommend it</td>\n",
       "      <td>1</td>\n",
       "      <td>0</td>\n",
       "      <td>This book boring Nothing stimulate granddaughter It waste money I would recommend</td>\n",
       "      <td>SoftPlay Cloth Book, Love This book boring Nothing stimulate granddaughter It waste money I would recommend</td>\n",
       "      <td>0</td>\n",
       "    </tr>\n",
       "    <tr>\n",
       "      <th>68</th>\n",
       "      <td>Hunnt&amp;reg; Falling Flowers and Birds Kids Nursery Home Decor Vinyl Mural Art Wall Paper Stickers</td>\n",
       "      <td>The reason:Small sizeHard to apply on the wall because most part of flower only in one pieceYou will know how waste money it is when second day morning you see all the flowers fell on the floor in a roll.</td>\n",
       "      <td>1</td>\n",
       "      <td>0</td>\n",
       "      <td>The reason:Small sizeHard apply wall part flower one pieceYou know waste money second day morning see flowers fell floor roll</td>\n",
       "      <td>Hunnt&amp;reg; Falling Flowers and Birds Kids Nursery Home Decor Vinyl Mural Art Wall Paper Stickers The reason:Small sizeHard apply wall part flower one pieceYou know waste money second day morning see flowers fell floor roll</td>\n",
       "      <td>0</td>\n",
       "    </tr>\n",
       "    <tr>\n",
       "      <th>69</th>\n",
       "      <td>Wall Decor Removable Decal Sticker - Colorful Butterflies</td>\n",
       "      <td>Would not purchase again or recommend. The decals were thick almost plastic like and were coming off the wall as I was applying them! The would NOT stick! Literally stayed stuck for about 5 minutes then started peeling off.</td>\n",
       "      <td>2</td>\n",
       "      <td>0</td>\n",
       "      <td>Would purchase recommend The decals thick almost plastic like coming wall I applying The would NOT stick Literally stayed stuck minutes started peeling</td>\n",
       "      <td>Wall Decor Removable Decal Sticker - Colorful Butterflies Would purchase recommend The decals thick almost plastic like coming wall I applying The would NOT stick Literally stayed stuck minutes started peeling</td>\n",
       "      <td>0</td>\n",
       "    </tr>\n",
       "    <tr>\n",
       "      <th>...</th>\n",
       "      <td>...</td>\n",
       "      <td>...</td>\n",
       "      <td>...</td>\n",
       "      <td>...</td>\n",
       "      <td>...</td>\n",
       "      <td>...</td>\n",
       "      <td>...</td>\n",
       "    </tr>\n",
       "    <tr>\n",
       "      <th>182258</th>\n",
       "      <td>Samsung Baby Care Washer, Stainless Platinum, for Baby Clothes and Reusable Diapers</td>\n",
       "      <td>My infant goes to a really crappy daycare, and I bought this washing machine specifically to help improve the situation. I've run the baby through the machine a number of times, but I can't seem to see any appreciable difference in the cleanliness or quality of my baby's care. False advertisement, perhaps?</td>\n",
       "      <td>1</td>\n",
       "      <td>0</td>\n",
       "      <td>My infant goes really crappy daycare I bought washing machine specifically help improve situation I've run baby machine number times I can't seem see appreciable difference cleanliness quality baby's care False advertisement perhaps</td>\n",
       "      <td>Samsung Baby Care Washer, Stainless Platinum, for Baby Clothes and Reusable Diapers My infant goes really crappy daycare I bought washing machine specifically help improve situation I've run baby machine number times I can't seem see appreciable difference cleanliness quality baby's care False advertisement perhaps</td>\n",
       "      <td>0</td>\n",
       "    </tr>\n",
       "    <tr>\n",
       "      <th>182305</th>\n",
       "      <td>Mud Pie Milestone Stickers, Boy</td>\n",
       "      <td>Pretty please open and inspect these stickers BEFORE starting a year long photo project!  Mine was mis-cut and didn't find out until month 2.  You don't want to find this out once he or she is here!</td>\n",
       "      <td>1</td>\n",
       "      <td>0</td>\n",
       "      <td>Pretty please open inspect stickers BEFORE starting year long photo project  Mine mis-cut find month  You want find</td>\n",
       "      <td>Mud Pie Milestone Stickers, Boy Pretty please open inspect stickers BEFORE starting year long photo project  Mine mis-cut find month  You want find</td>\n",
       "      <td>0</td>\n",
       "    </tr>\n",
       "    <tr>\n",
       "      <th>182307</th>\n",
       "      <td>Best BIB for Baby - Soft Bib (Pink-Elephant)</td>\n",
       "      <td>Great 5-Star Product but An Obvious knock-off of the Original McPolo's BabySoft BibThis brave seller doesn't seem to care if he is violating any copyrights or infringing on any trademark and patent protections. He is not even weary about offering a knock-off product of the highly acclaimed McPolo's BabySoft Bib, a quality product at Amazon most parents are aware of. Not only that, he just casually &amp;#34;drives through all the red lights&amp;#34; so to speak and &amp;#34;borrows&amp;#34; their product images puts on his own logo and calls them his own! Sorry it is what it is, this is stealing under broad daylight! More to that, the language he uses to describe the product is also just too obvious a copy from the originator's version, as if he does not have any imagination, enthusiasm or beliefs pushing his knock-off product, but just wants sales, sales and more sales. One more thing that I cannot swallow, and it is the final nail to the coffin: He even brave enough to &amp;#34;borrows&amp;#34; McPolo's customers' product reviews next door on Amazon, word-for-word and fabricates the entire customer reviews entries!! I give him a 5-star for his guts!! But I cannot stomach and condone blatant business misconduct in such a way under Amazon's nose. I wonder why they don't take actions against this seller, to be honest. Sorry, I will not buy this product at any price. Fair competition is ok, but this is just too much, too much in-your-face, unethical and it is totally un-American.</td>\n",
       "      <td>1</td>\n",
       "      <td>0</td>\n",
       "      <td>Great Product An Obvious knock-off Original McPolo's BabySoft BibThis brave seller seem care violating copyrights infringing trademark patent protections He even weary offering knock-off product highly acclaimed McPolo's BabySoft Bib quality product Amazon parents aware Not casually red speak product images puts logo calls Sorry stealing broad daylight More language uses describe product also obvious copy originator's version imagination enthusiasm beliefs pushing knock-off product wants sales sales sales One thing I cannot swallow final nail coffin He even brave enough McPolo's customers product reviews next door Amazon word-for-word fabricates entire customer reviews entries I give guts But I cannot stomach condone blatant business misconduct way Amazon's nose I wonder take actions seller honest Sorry I buy product price Fair competition ok much much in-your-face unethical totally un-American</td>\n",
       "      <td>Best BIB for Baby - Soft Bib (Pink-Elephant) Great Product An Obvious knock-off Original McPolo's BabySoft BibThis brave seller seem care violating copyrights infringing trademark patent protections He even weary offering knock-off product highly acclaimed McPolo's BabySoft Bib quality product Amazon parents aware Not casually red speak product images puts logo calls Sorry stealing broad daylight More language uses describe product also obvious copy originator's version imagination enthusiasm beliefs pushing knock-off product wants sales sales sales One thing I cannot swallow final nail coffin He even brave enough McPolo's customers product reviews next door Amazon word-for-word fabricates entire customer reviews entries I give guts But I cannot stomach condone blatant business misconduct way Amazon's nose I wonder take actions seller honest Sorry I buy product price Fair competition ok much much in-your-face unethical totally un-American</td>\n",
       "      <td>0</td>\n",
       "    </tr>\n",
       "    <tr>\n",
       "      <th>182316</th>\n",
       "      <td>Bouncy&amp;reg; Inflatable Real Feel Hopping Cow</td>\n",
       "      <td>When I received the item my initial thought was it's a bit smaller than expected. My 3yr old is short so it worked fine. My 7yr old was well over sized for it. I'm not so sure about the &amp;#34;real feel&amp;#34; but it's soft and comfortable. Mine had a hole in the stitching on top of the head when it was new out of the box. The hole is about the size of a nickel. The inflatable portion is thick and sturdy. The outer covering and included pump are cheap and flimsy. My kids argued to play with it for about 10minutes and they haven't cared to touch since, the little one felt it was more fun to run through the house than to slowly bounce around. I feel it's cheap and over priced. I would value it at $20 at the very most.</td>\n",
       "      <td>2</td>\n",
       "      <td>0</td>\n",
       "      <td>When I received item initial thought bit smaller expected My old short worked fine My old well sized I'm sure soft comfortable Mine hole stitching top head new box The hole size nickel The inflatable portion thick sturdy The outer covering included pump cheap flimsy My kids argued play cared touch since little one felt fun run house slowly bounce around I feel cheap priced I would value</td>\n",
       "      <td>Bouncy&amp;reg; Inflatable Real Feel Hopping Cow When I received item initial thought bit smaller expected My old short worked fine My old well sized I'm sure soft comfortable Mine hole stitching top head new box The hole size nickel The inflatable portion thick sturdy The outer covering included pump cheap flimsy My kids argued play cared touch since little one felt fun run house slowly bounce around I feel cheap priced I would value</td>\n",
       "      <td>0</td>\n",
       "    </tr>\n",
       "    <tr>\n",
       "      <th>182347</th>\n",
       "      <td>Maxboost iPhone 5S/5 Case - Protective Snap-on Hard Case Slim Rugged Cover [Not compatible to Apple iPhone 6 Air 5c 4s 4 3gs, Screen Protector / Cable is not included] - Ultra Slim Profile Slimmer than coventional otterbox/lifeproof/kate Spade/speck/juicy couture/griffin/element/taktik Case</td>\n",
       "      <td>I got this case in the mail today, it came on the last estimated day of arrival. It is a nice case, but it came broken. The piece of plastic above the camera is completely snapped. Also it was nothing like the color in the picture, the picture showed a pink coral colored case and I got a fire truck red case in the mail.</td>\n",
       "      <td>2</td>\n",
       "      <td>0</td>\n",
       "      <td>I got case mail today came last estimated day arrival It nice case came broken The piece plastic camera completely snapped Also nothing like color picture picture showed pink coral colored case I got fire truck red case mail</td>\n",
       "      <td>Maxboost iPhone 5S/5 Case - Protective Snap-on Hard Case Slim Rugged Cover [Not compatible to Apple iPhone 6 Air 5c 4s 4 3gs, Screen Protector / Cable is not included] - Ultra Slim Profile Slimmer than coventional otterbox/lifeproof/kate Spade/speck/juicy couture/griffin/element/taktik Case I got case mail today came last estimated day arrival It nice case came broken The piece plastic camera completely snapped Also nothing like color picture picture showed pink coral colored case I got fire truck red case mail</td>\n",
       "      <td>0</td>\n",
       "    </tr>\n",
       "  </tbody>\n",
       "</table>\n",
       "<p>26361 rows × 7 columns</p>\n",
       "</div>"
      ],
      "text/plain": [
       "                                                                                                                                                                                                                                                                                                       name  \\\n",
       "21      Nature's Lullabies Second Year Sticker Calendar                                                                                                                                                                                                                                                       \n",
       "40      SoftPlay Giggle Jiggle Funbook, Happy Bear                                                                                                                                                                                                                                                            \n",
       "49      SoftPlay Cloth Book, Love                                                                                                                                                                                                                                                                             \n",
       "68      Hunnt&reg; Falling Flowers and Birds Kids Nursery Home Decor Vinyl Mural Art Wall Paper Stickers                                                                                                                                                                                                      \n",
       "69      Wall Decor Removable Decal Sticker - Colorful Butterflies                                                                                                                                                                                                                                             \n",
       "...                                                           ...                                                                                                                                                                                                                                             \n",
       "182258  Samsung Baby Care Washer, Stainless Platinum, for Baby Clothes and Reusable Diapers                                                                                                                                                                                                                   \n",
       "182305  Mud Pie Milestone Stickers, Boy                                                                                                                                                                                                                                                                       \n",
       "182307  Best BIB for Baby - Soft Bib (Pink-Elephant)                                                                                                                                                                                                                                                          \n",
       "182316  Bouncy&reg; Inflatable Real Feel Hopping Cow                                                                                                                                                                                                                                                          \n",
       "182347  Maxboost iPhone 5S/5 Case - Protective Snap-on Hard Case Slim Rugged Cover [Not compatible to Apple iPhone 6 Air 5c 4s 4 3gs, Screen Protector / Cable is not included] - Ultra Slim Profile Slimmer than coventional otterbox/lifeproof/kate Spade/speck/juicy couture/griffin/element/taktik Case   \n",
       "\n",
       "                                                                                                                                                                                                                                                                                                                                                                                                                                                                                                                                                                                                                                                                                                                                                                                                                                                                                                                                                                                                                                                                                                                                                                                                                                                                                                                                                                                                                                                                                                                                       review  \\\n",
       "21      I only purchased a second-year calendar for my son because I had one for my daughter. I was really disappointed with the lack of selection available for second-year calendars in general, so I just got this one because it was one of the only ones. It's an okay calendar. The finish on the pages is glossy which makes it hard to write on with certain pens. The stickers aren't very cute and the pages are pretty old-fashioned looking. Hopefully they will come out with some other calendars for future purchasers.                                                                                                                                                                                                                                                                                                                                                                                                                                                                                                                                                                                                                                                                                                                                                                                                                                                                                                                                                                                                          \n",
       "40      This bear is absolutely adorable and I would give it a 5 star rating if it actually giggled or growled like it was suppose to!  I just got it in the mail the other day and was super excited when I saw how cute it was!  If it's something as simple as a dead battery I could handle it BUT I can't even find a place where the batteries would to!  Such a disappointment....it's going back and I have no gift to take down to my new Granddaughter, Kenzie, now!                                                                                                                                                                                                                                                                                                                                                                                                                                                                                                                                                                                                                                                                                                                                                                                                                                                                                                                                                                                                                                                                  \n",
       "49      This book is boring. Nothing to stimulate my granddaughter. It is a waste of money. I would not recommend it                                                                                                                                                                                                                                                                                                                                                                                                                                                                                                                                                                                                                                                                                                                                                                                                                                                                                                                                                                                                                                                                                                                                                                                                                                                                                                                                                                                                                            \n",
       "68      The reason:Small sizeHard to apply on the wall because most part of flower only in one pieceYou will know how waste money it is when second day morning you see all the flowers fell on the floor in a roll.                                                                                                                                                                                                                                                                                                                                                                                                                                                                                                                                                                                                                                                                                                                                                                                                                                                                                                                                                                                                                                                                                                                                                                                                                                                                                                                            \n",
       "69      Would not purchase again or recommend. The decals were thick almost plastic like and were coming off the wall as I was applying them! The would NOT stick! Literally stayed stuck for about 5 minutes then started peeling off.                                                                                                                                                                                                                                                                                                                                                                                                                                                                                                                                                                                                                                                                                                                                                                                                                                                                                                                                                                                                                                                                                                                                                                                                                                                                                                         \n",
       "...                                                                                                                                                                                                                                 ...                                                                                                                                                                                                                                                                                                                                                                                                                                                                                                                                                                                                                                                                                                                                                                                                                                                                                                                                                                                                                                                                                                                                                                                                                                                                                                         \n",
       "182258  My infant goes to a really crappy daycare, and I bought this washing machine specifically to help improve the situation. I've run the baby through the machine a number of times, but I can't seem to see any appreciable difference in the cleanliness or quality of my baby's care. False advertisement, perhaps?                                                                                                                                                                                                                                                                                                                                                                                                                                                                                                                                                                                                                                                                                                                                                                                                                                                                                                                                                                                                                                                                                                                                                                                                                     \n",
       "182305  Pretty please open and inspect these stickers BEFORE starting a year long photo project!  Mine was mis-cut and didn't find out until month 2.  You don't want to find this out once he or she is here!                                                                                                                                                                                                                                                                                                                                                                                                                                                                                                                                                                                                                                                                                                                                                                                                                                                                                                                                                                                                                                                                                                                                                                                                                                                                                                                                  \n",
       "182307  Great 5-Star Product but An Obvious knock-off of the Original McPolo's BabySoft BibThis brave seller doesn't seem to care if he is violating any copyrights or infringing on any trademark and patent protections. He is not even weary about offering a knock-off product of the highly acclaimed McPolo's BabySoft Bib, a quality product at Amazon most parents are aware of. Not only that, he just casually &#34;drives through all the red lights&#34; so to speak and &#34;borrows&#34; their product images puts on his own logo and calls them his own! Sorry it is what it is, this is stealing under broad daylight! More to that, the language he uses to describe the product is also just too obvious a copy from the originator's version, as if he does not have any imagination, enthusiasm or beliefs pushing his knock-off product, but just wants sales, sales and more sales. One more thing that I cannot swallow, and it is the final nail to the coffin: He even brave enough to &#34;borrows&#34; McPolo's customers' product reviews next door on Amazon, word-for-word and fabricates the entire customer reviews entries!! I give him a 5-star for his guts!! But I cannot stomach and condone blatant business misconduct in such a way under Amazon's nose. I wonder why they don't take actions against this seller, to be honest. Sorry, I will not buy this product at any price. Fair competition is ok, but this is just too much, too much in-your-face, unethical and it is totally un-American.   \n",
       "182316  When I received the item my initial thought was it's a bit smaller than expected. My 3yr old is short so it worked fine. My 7yr old was well over sized for it. I'm not so sure about the &#34;real feel&#34; but it's soft and comfortable. Mine had a hole in the stitching on top of the head when it was new out of the box. The hole is about the size of a nickel. The inflatable portion is thick and sturdy. The outer covering and included pump are cheap and flimsy. My kids argued to play with it for about 10minutes and they haven't cared to touch since, the little one felt it was more fun to run through the house than to slowly bounce around. I feel it's cheap and over priced. I would value it at $20 at the very most.                                                                                                                                                                                                                                                                                                                                                                                                                                                                                                                                                                                                                                                                                                                                                                                       \n",
       "182347  I got this case in the mail today, it came on the last estimated day of arrival. It is a nice case, but it came broken. The piece of plastic above the camera is completely snapped. Also it was nothing like the color in the picture, the picture showed a pink coral colored case and I got a fire truck red case in the mail.                                                                                                                                                                                                                                                                                                                                                                                                                                                                                                                                                                                                                                                                                                                                                                                                                                                                                                                                                                                                                                                                                                                                                                                                       \n",
       "\n",
       "        rating  Sentiment  \\\n",
       "21      2       0           \n",
       "40      2       0           \n",
       "49      1       0           \n",
       "68      1       0           \n",
       "69      2       0           \n",
       "...    ..      ..           \n",
       "182258  1       0           \n",
       "182305  1       0           \n",
       "182307  1       0           \n",
       "182316  2       0           \n",
       "182347  2       0           \n",
       "\n",
       "                                                                                                                                                                                                                                                                                                                                                                                                                                                                                                                                                                                                                                                                                                                                                                                                                                                                                                                                     cleaned_review  \\\n",
       "21      I purchased second-year calendar son I one daughter I really disappointed lack selection available second-year calendars general I got one one ones It's okay calendar The finish pages glossy makes hard write certain pens The stickers cute pages pretty old-fashioned looking Hopefully come calendars future purchasers                                                                                                                                                                                                                                                                                                                                                                                                                                                                                                                                                                                                                  \n",
       "40      This bear absolutely adorable I would give star rating actually giggled growled like suppose  I got mail day super excited I saw cute  If something simple dead battery I could handle BUT I can't even find place batteries would  Such disappointment....it's going back I gift take new Granddaughter Kenzie                                                                                                                                                                                                                                                                                                                                                                                                                                                                                                                                                                                                                               \n",
       "49      This book boring Nothing stimulate granddaughter It waste money I would recommend                                                                                                                                                                                                                                                                                                                                                                                                                                                                                                                                                                                                                                                                                                                                                                                                                                                             \n",
       "68      The reason:Small sizeHard apply wall part flower one pieceYou know waste money second day morning see flowers fell floor roll                                                                                                                                                                                                                                                                                                                                                                                                                                                                                                                                                                                                                                                                                                                                                                                                                 \n",
       "69      Would purchase recommend The decals thick almost plastic like coming wall I applying The would NOT stick Literally stayed stuck minutes started peeling                                                                                                                                                                                                                                                                                                                                                                                                                                                                                                                                                                                                                                                                                                                                                                                       \n",
       "...                                                                                                                                                         ...                                                                                                                                                                                                                                                                                                                                                                                                                                                                                                                                                                                                                                                                                                                                                                                       \n",
       "182258  My infant goes really crappy daycare I bought washing machine specifically help improve situation I've run baby machine number times I can't seem see appreciable difference cleanliness quality baby's care False advertisement perhaps                                                                                                                                                                                                                                                                                                                                                                                                                                                                                                                                                                                                                                                                                                      \n",
       "182305  Pretty please open inspect stickers BEFORE starting year long photo project  Mine mis-cut find month  You want find                                                                                                                                                                                                                                                                                                                                                                                                                                                                                                                                                                                                                                                                                                                                                                                                                           \n",
       "182307  Great Product An Obvious knock-off Original McPolo's BabySoft BibThis brave seller seem care violating copyrights infringing trademark patent protections He even weary offering knock-off product highly acclaimed McPolo's BabySoft Bib quality product Amazon parents aware Not casually red speak product images puts logo calls Sorry stealing broad daylight More language uses describe product also obvious copy originator's version imagination enthusiasm beliefs pushing knock-off product wants sales sales sales One thing I cannot swallow final nail coffin He even brave enough McPolo's customers product reviews next door Amazon word-for-word fabricates entire customer reviews entries I give guts But I cannot stomach condone blatant business misconduct way Amazon's nose I wonder take actions seller honest Sorry I buy product price Fair competition ok much much in-your-face unethical totally un-American   \n",
       "182316  When I received item initial thought bit smaller expected My old short worked fine My old well sized I'm sure soft comfortable Mine hole stitching top head new box The hole size nickel The inflatable portion thick sturdy The outer covering included pump cheap flimsy My kids argued play cared touch since little one felt fun run house slowly bounce around I feel cheap priced I would value                                                                                                                                                                                                                                                                                                                                                                                                                                                                                                                                         \n",
       "182347  I got case mail today came last estimated day arrival It nice case came broken The piece plastic camera completely snapped Also nothing like color picture picture showed pink coral colored case I got fire truck red case mail                                                                                                                                                                                                                                                                                                                                                                                                                                                                                                                                                                                                                                                                                                              \n",
       "\n",
       "                                                                                                                                                                                                                                                                                                                                                                                                                                                                                                                                                                                                                                                                                                                                                                                                                                                                                                                                                                                         Product  \\\n",
       "21      Nature's Lullabies Second Year Sticker Calendar I purchased second-year calendar son I one daughter I really disappointed lack selection available second-year calendars general I got one one ones It's okay calendar The finish pages glossy makes hard write certain pens The stickers cute pages pretty old-fashioned looking Hopefully come calendars future purchasers                                                                                                                                                                                                                                                                                                                                                                                                                                                                                                                                                                                                               \n",
       "40      SoftPlay Giggle Jiggle Funbook, Happy Bear This bear absolutely adorable I would give star rating actually giggled growled like suppose  I got mail day super excited I saw cute  If something simple dead battery I could handle BUT I can't even find place batteries would  Such disappointment....it's going back I gift take new Granddaughter Kenzie                                                                                                                                                                                                                                                                                                                                                                                                                                                                                                                                                                                                                                 \n",
       "49      SoftPlay Cloth Book, Love This book boring Nothing stimulate granddaughter It waste money I would recommend                                                                                                                                                                                                                                                                                                                                                                                                                                                                                                                                                                                                                                                                                                                                                                                                                                                                                \n",
       "68      Hunnt&reg; Falling Flowers and Birds Kids Nursery Home Decor Vinyl Mural Art Wall Paper Stickers The reason:Small sizeHard apply wall part flower one pieceYou know waste money second day morning see flowers fell floor roll                                                                                                                                                                                                                                                                                                                                                                                                                                                                                                                                                                                                                                                                                                                                                             \n",
       "69      Wall Decor Removable Decal Sticker - Colorful Butterflies Would purchase recommend The decals thick almost plastic like coming wall I applying The would NOT stick Literally stayed stuck minutes started peeling                                                                                                                                                                                                                                                                                                                                                                                                                                                                                                                                                                                                                                                                                                                                                                          \n",
       "...                                                                                                                                                                                                                   ...                                                                                                                                                                                                                                                                                                                                                                                                                                                                                                                                                                                                                                                                                                                                                                          \n",
       "182258  Samsung Baby Care Washer, Stainless Platinum, for Baby Clothes and Reusable Diapers My infant goes really crappy daycare I bought washing machine specifically help improve situation I've run baby machine number times I can't seem see appreciable difference cleanliness quality baby's care False advertisement perhaps                                                                                                                                                                                                                                                                                                                                                                                                                                                                                                                                                                                                                                                               \n",
       "182305  Mud Pie Milestone Stickers, Boy Pretty please open inspect stickers BEFORE starting year long photo project  Mine mis-cut find month  You want find                                                                                                                                                                                                                                                                                                                                                                                                                                                                                                                                                                                                                                                                                                                                                                                                                                        \n",
       "182307  Best BIB for Baby - Soft Bib (Pink-Elephant) Great Product An Obvious knock-off Original McPolo's BabySoft BibThis brave seller seem care violating copyrights infringing trademark patent protections He even weary offering knock-off product highly acclaimed McPolo's BabySoft Bib quality product Amazon parents aware Not casually red speak product images puts logo calls Sorry stealing broad daylight More language uses describe product also obvious copy originator's version imagination enthusiasm beliefs pushing knock-off product wants sales sales sales One thing I cannot swallow final nail coffin He even brave enough McPolo's customers product reviews next door Amazon word-for-word fabricates entire customer reviews entries I give guts But I cannot stomach condone blatant business misconduct way Amazon's nose I wonder take actions seller honest Sorry I buy product price Fair competition ok much much in-your-face unethical totally un-American   \n",
       "182316  Bouncy&reg; Inflatable Real Feel Hopping Cow When I received item initial thought bit smaller expected My old short worked fine My old well sized I'm sure soft comfortable Mine hole stitching top head new box The hole size nickel The inflatable portion thick sturdy The outer covering included pump cheap flimsy My kids argued play cared touch since little one felt fun run house slowly bounce around I feel cheap priced I would value                                                                                                                                                                                                                                                                                                                                                                                                                                                                                                                                         \n",
       "182347  Maxboost iPhone 5S/5 Case - Protective Snap-on Hard Case Slim Rugged Cover [Not compatible to Apple iPhone 6 Air 5c 4s 4 3gs, Screen Protector / Cable is not included] - Ultra Slim Profile Slimmer than coventional otterbox/lifeproof/kate Spade/speck/juicy couture/griffin/element/taktik Case I got case mail today came last estimated day arrival It nice case came broken The piece plastic camera completely snapped Also nothing like color picture picture showed pink coral colored case I got fire truck red case mail                                                                                                                                                                                                                                                                                                                                                                                                                                                       \n",
       "\n",
       "        is_fake_reviews  \n",
       "21      0                \n",
       "40      0                \n",
       "49      0                \n",
       "68      0                \n",
       "69      0                \n",
       "...    ..                \n",
       "182258  0                \n",
       "182305  0                \n",
       "182307  0                \n",
       "182316  0                \n",
       "182347  0                \n",
       "\n",
       "[26361 rows x 7 columns]"
      ]
     },
     "execution_count": 19,
     "metadata": {},
     "output_type": "execute_result"
    }
   ],
   "source": [
    "data[data['Sentiment'] == 0]"
   ]
  },
  {
   "cell_type": "code",
   "execution_count": 20,
   "id": "ab18fc28",
   "metadata": {},
   "outputs": [
    {
     "name": "stdout",
     "output_type": "stream",
     "text": [
      "[0]\n"
     ]
    }
   ],
   "source": [
    "text3 = 'This bear is absolutely adorable and I would give it a 5 star rating if it actually giggled or growled like it was suppose to! I just got it in the mail the other day and was super excited when I saw how cute it was! If its something as simple as a dead battery I could handle it BUT I cant even find a place where the batteries would to! Such a disappointment....its going back and I have no gift to take down to my new Granddaughter, Kenzie, now'\n",
    "text3_rating = 2\n",
    "text_3 = clean_text(text3)\n",
    "text_3 = cv.transform([text_3])\n",
    "test_aaa = sentiment_model.predict(text_3)\n",
    "print(test_aaa)"
   ]
  },
  {
   "cell_type": "code",
   "execution_count": 21,
   "id": "12085c9c",
   "metadata": {},
   "outputs": [
    {
     "name": "stdout",
     "output_type": "stream",
     "text": [
      "review is not fake\n"
     ]
    }
   ],
   "source": [
    "test_bbb = fake_test(text3, text3_rating)\n",
    "print(test_bbb)"
   ]
  },
  {
   "cell_type": "markdown",
   "id": "c157ebc2",
   "metadata": {},
   "source": [
    "### Saving Model in a Pickle File"
   ]
  },
  {
   "cell_type": "code",
   "execution_count": 22,
   "id": "98e1a563",
   "metadata": {},
   "outputs": [],
   "source": [
    "import pickle as pkl\n",
    "\n",
    "filename = 'Sentiment_Model.pkl'\n",
    "pkl.dump(sentiment_model, open(filename, 'wb'))"
   ]
  },
  {
   "cell_type": "markdown",
   "id": "351d5938",
   "metadata": {},
   "source": [
    "### Saving CountVectorizer in a Pickle File"
   ]
  },
  {
   "cell_type": "code",
   "execution_count": 23,
   "id": "ad19da1d",
   "metadata": {},
   "outputs": [],
   "source": [
    "vectorizer = 'CountVectorizer.pkl'\n",
    "pkl.dump(cv, open(vectorizer, 'wb'))"
   ]
  }
 ],
 "metadata": {
  "kernelspec": {
   "display_name": "Python 3",
   "language": "python",
   "name": "python3"
  },
  "language_info": {
   "codemirror_mode": {
    "name": "ipython",
    "version": 3
   },
   "file_extension": ".py",
   "mimetype": "text/x-python",
   "name": "python",
   "nbconvert_exporter": "python",
   "pygments_lexer": "ipython3",
   "version": "3.7.11"
  }
 },
 "nbformat": 4,
 "nbformat_minor": 5
}
